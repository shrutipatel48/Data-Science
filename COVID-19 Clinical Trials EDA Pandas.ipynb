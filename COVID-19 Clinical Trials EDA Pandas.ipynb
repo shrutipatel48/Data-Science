{
 "cells": [
  {
   "cell_type": "code",
   "execution_count": 68,
   "id": "92094dd8",
   "metadata": {},
   "outputs": [],
   "source": [
    "import numpy as np\n",
    "import pandas as pd\n",
    "import matplotlib.pyplot as plt\n",
    "import seaborn as sns"
   ]
  },
  {
   "cell_type": "code",
   "execution_count": 69,
   "id": "be46f7ff",
   "metadata": {
    "scrolled": false
   },
   "outputs": [
    {
     "data": {
      "text/html": [
       "<div>\n",
       "<style scoped>\n",
       "    .dataframe tbody tr th:only-of-type {\n",
       "        vertical-align: middle;\n",
       "    }\n",
       "\n",
       "    .dataframe tbody tr th {\n",
       "        vertical-align: top;\n",
       "    }\n",
       "\n",
       "    .dataframe thead th {\n",
       "        text-align: right;\n",
       "    }\n",
       "</style>\n",
       "<table border=\"1\" class=\"dataframe\">\n",
       "  <thead>\n",
       "    <tr style=\"text-align: right;\">\n",
       "      <th></th>\n",
       "      <th>Rank</th>\n",
       "      <th>NCT Number</th>\n",
       "      <th>Title</th>\n",
       "      <th>Acronym</th>\n",
       "      <th>Status</th>\n",
       "      <th>Study Results</th>\n",
       "      <th>Conditions</th>\n",
       "      <th>Interventions</th>\n",
       "      <th>Outcome Measures</th>\n",
       "      <th>Sponsor/Collaborators</th>\n",
       "      <th>...</th>\n",
       "      <th>Other IDs</th>\n",
       "      <th>Start Date</th>\n",
       "      <th>Primary Completion Date</th>\n",
       "      <th>Completion Date</th>\n",
       "      <th>First Posted</th>\n",
       "      <th>Results First Posted</th>\n",
       "      <th>Last Update Posted</th>\n",
       "      <th>Locations</th>\n",
       "      <th>Study Documents</th>\n",
       "      <th>URL</th>\n",
       "    </tr>\n",
       "  </thead>\n",
       "  <tbody>\n",
       "    <tr>\n",
       "      <th>0</th>\n",
       "      <td>1</td>\n",
       "      <td>NCT04785898</td>\n",
       "      <td>Diagnostic Performance of the ID Now™ COVID-19...</td>\n",
       "      <td>COVID-IDNow</td>\n",
       "      <td>Active, not recruiting</td>\n",
       "      <td>No Results Available</td>\n",
       "      <td>Covid19</td>\n",
       "      <td>Diagnostic Test: ID Now™ COVID-19 Screening Test</td>\n",
       "      <td>Evaluate the diagnostic performance of the ID ...</td>\n",
       "      <td>Groupe Hospitalier Paris Saint Joseph</td>\n",
       "      <td>...</td>\n",
       "      <td>COVID-IDNow</td>\n",
       "      <td>November 9, 2020</td>\n",
       "      <td>December 22, 2020</td>\n",
       "      <td>April 30, 2021</td>\n",
       "      <td>March 8, 2021</td>\n",
       "      <td>NaN</td>\n",
       "      <td>March 8, 2021</td>\n",
       "      <td>Groupe Hospitalier Paris Saint-Joseph, Paris, ...</td>\n",
       "      <td>NaN</td>\n",
       "      <td>https://ClinicalTrials.gov/show/NCT04785898</td>\n",
       "    </tr>\n",
       "    <tr>\n",
       "      <th>1</th>\n",
       "      <td>2</td>\n",
       "      <td>NCT04595136</td>\n",
       "      <td>Study to Evaluate the Efficacy of COVID19-0001...</td>\n",
       "      <td>COVID-19</td>\n",
       "      <td>Not yet recruiting</td>\n",
       "      <td>No Results Available</td>\n",
       "      <td>SARS-CoV-2 Infection</td>\n",
       "      <td>Drug: Drug COVID19-0001-USR|Drug: normal saline</td>\n",
       "      <td>Change on viral load results from baseline aft...</td>\n",
       "      <td>United Medical Specialties</td>\n",
       "      <td>...</td>\n",
       "      <td>COVID19-0001-USR</td>\n",
       "      <td>November 2, 2020</td>\n",
       "      <td>December 15, 2020</td>\n",
       "      <td>January 29, 2021</td>\n",
       "      <td>October 20, 2020</td>\n",
       "      <td>NaN</td>\n",
       "      <td>October 20, 2020</td>\n",
       "      <td>Cimedical, Barranquilla, Atlantico, Colombia</td>\n",
       "      <td>NaN</td>\n",
       "      <td>https://ClinicalTrials.gov/show/NCT04595136</td>\n",
       "    </tr>\n",
       "    <tr>\n",
       "      <th>2</th>\n",
       "      <td>3</td>\n",
       "      <td>NCT04395482</td>\n",
       "      <td>Lung CT Scan Analysis of SARS-CoV2 Induced Lun...</td>\n",
       "      <td>TAC-COVID19</td>\n",
       "      <td>Recruiting</td>\n",
       "      <td>No Results Available</td>\n",
       "      <td>covid19</td>\n",
       "      <td>Other: Lung CT scan analysis in COVID-19 patients</td>\n",
       "      <td>A qualitative analysis of parenchymal lung dam...</td>\n",
       "      <td>University of Milano Bicocca</td>\n",
       "      <td>...</td>\n",
       "      <td>TAC-COVID19</td>\n",
       "      <td>May 7, 2020</td>\n",
       "      <td>June 15, 2021</td>\n",
       "      <td>June 15, 2021</td>\n",
       "      <td>May 20, 2020</td>\n",
       "      <td>NaN</td>\n",
       "      <td>November 9, 2020</td>\n",
       "      <td>Ospedale Papa Giovanni XXIII, Bergamo, Italy|P...</td>\n",
       "      <td>NaN</td>\n",
       "      <td>https://ClinicalTrials.gov/show/NCT04395482</td>\n",
       "    </tr>\n",
       "    <tr>\n",
       "      <th>3</th>\n",
       "      <td>4</td>\n",
       "      <td>NCT04416061</td>\n",
       "      <td>The Role of a Private Hospital in Hong Kong Am...</td>\n",
       "      <td>COVID-19</td>\n",
       "      <td>Active, not recruiting</td>\n",
       "      <td>No Results Available</td>\n",
       "      <td>COVID</td>\n",
       "      <td>Diagnostic Test: COVID 19 Diagnostic Test</td>\n",
       "      <td>Proportion of asymptomatic subjects|Proportion...</td>\n",
       "      <td>Hong Kong Sanatorium &amp; Hospital</td>\n",
       "      <td>...</td>\n",
       "      <td>RC-2020-08</td>\n",
       "      <td>May 25, 2020</td>\n",
       "      <td>July 31, 2020</td>\n",
       "      <td>August 31, 2020</td>\n",
       "      <td>June 4, 2020</td>\n",
       "      <td>NaN</td>\n",
       "      <td>June 4, 2020</td>\n",
       "      <td>Hong Kong Sanatorium &amp; Hospital, Hong Kong, Ho...</td>\n",
       "      <td>NaN</td>\n",
       "      <td>https://ClinicalTrials.gov/show/NCT04416061</td>\n",
       "    </tr>\n",
       "    <tr>\n",
       "      <th>4</th>\n",
       "      <td>5</td>\n",
       "      <td>NCT04395924</td>\n",
       "      <td>Maternal-foetal Transmission of SARS-Cov-2</td>\n",
       "      <td>TMF-COVID-19</td>\n",
       "      <td>Recruiting</td>\n",
       "      <td>No Results Available</td>\n",
       "      <td>Maternal Fetal Infection Transmission|COVID-19...</td>\n",
       "      <td>Diagnostic Test: Diagnosis of SARS-Cov2 by RT-...</td>\n",
       "      <td>COVID-19 by positive PCR in cord blood and / o...</td>\n",
       "      <td>Centre Hospitalier Régional d'Orléans|Centre d...</td>\n",
       "      <td>...</td>\n",
       "      <td>CHRO-2020-10</td>\n",
       "      <td>May 5, 2020</td>\n",
       "      <td>May 2021</td>\n",
       "      <td>May 2021</td>\n",
       "      <td>May 20, 2020</td>\n",
       "      <td>NaN</td>\n",
       "      <td>June 4, 2020</td>\n",
       "      <td>CHR Orléans, Orléans, France</td>\n",
       "      <td>NaN</td>\n",
       "      <td>https://ClinicalTrials.gov/show/NCT04395924</td>\n",
       "    </tr>\n",
       "  </tbody>\n",
       "</table>\n",
       "<p>5 rows × 27 columns</p>\n",
       "</div>"
      ],
      "text/plain": [
       "   Rank   NCT Number                                              Title  \\\n",
       "0     1  NCT04785898  Diagnostic Performance of the ID Now™ COVID-19...   \n",
       "1     2  NCT04595136  Study to Evaluate the Efficacy of COVID19-0001...   \n",
       "2     3  NCT04395482  Lung CT Scan Analysis of SARS-CoV2 Induced Lun...   \n",
       "3     4  NCT04416061  The Role of a Private Hospital in Hong Kong Am...   \n",
       "4     5  NCT04395924         Maternal-foetal Transmission of SARS-Cov-2   \n",
       "\n",
       "        Acronym                  Status         Study Results  \\\n",
       "0   COVID-IDNow  Active, not recruiting  No Results Available   \n",
       "1      COVID-19      Not yet recruiting  No Results Available   \n",
       "2   TAC-COVID19              Recruiting  No Results Available   \n",
       "3      COVID-19  Active, not recruiting  No Results Available   \n",
       "4  TMF-COVID-19              Recruiting  No Results Available   \n",
       "\n",
       "                                          Conditions  \\\n",
       "0                                            Covid19   \n",
       "1                               SARS-CoV-2 Infection   \n",
       "2                                            covid19   \n",
       "3                                              COVID   \n",
       "4  Maternal Fetal Infection Transmission|COVID-19...   \n",
       "\n",
       "                                       Interventions  \\\n",
       "0   Diagnostic Test: ID Now™ COVID-19 Screening Test   \n",
       "1    Drug: Drug COVID19-0001-USR|Drug: normal saline   \n",
       "2  Other: Lung CT scan analysis in COVID-19 patients   \n",
       "3          Diagnostic Test: COVID 19 Diagnostic Test   \n",
       "4  Diagnostic Test: Diagnosis of SARS-Cov2 by RT-...   \n",
       "\n",
       "                                    Outcome Measures  \\\n",
       "0  Evaluate the diagnostic performance of the ID ...   \n",
       "1  Change on viral load results from baseline aft...   \n",
       "2  A qualitative analysis of parenchymal lung dam...   \n",
       "3  Proportion of asymptomatic subjects|Proportion...   \n",
       "4  COVID-19 by positive PCR in cord blood and / o...   \n",
       "\n",
       "                               Sponsor/Collaborators  ...         Other IDs  \\\n",
       "0              Groupe Hospitalier Paris Saint Joseph  ...       COVID-IDNow   \n",
       "1                         United Medical Specialties  ...  COVID19-0001-USR   \n",
       "2                       University of Milano Bicocca  ...       TAC-COVID19   \n",
       "3                    Hong Kong Sanatorium & Hospital  ...        RC-2020-08   \n",
       "4  Centre Hospitalier Régional d'Orléans|Centre d...  ...      CHRO-2020-10   \n",
       "\n",
       "         Start Date Primary Completion Date   Completion Date  \\\n",
       "0  November 9, 2020       December 22, 2020    April 30, 2021   \n",
       "1  November 2, 2020       December 15, 2020  January 29, 2021   \n",
       "2       May 7, 2020           June 15, 2021     June 15, 2021   \n",
       "3      May 25, 2020           July 31, 2020   August 31, 2020   \n",
       "4       May 5, 2020                May 2021          May 2021   \n",
       "\n",
       "       First Posted Results First Posted Last Update Posted  \\\n",
       "0     March 8, 2021                  NaN      March 8, 2021   \n",
       "1  October 20, 2020                  NaN   October 20, 2020   \n",
       "2      May 20, 2020                  NaN   November 9, 2020   \n",
       "3      June 4, 2020                  NaN       June 4, 2020   \n",
       "4      May 20, 2020                  NaN       June 4, 2020   \n",
       "\n",
       "                                           Locations Study Documents  \\\n",
       "0  Groupe Hospitalier Paris Saint-Joseph, Paris, ...             NaN   \n",
       "1       Cimedical, Barranquilla, Atlantico, Colombia             NaN   \n",
       "2  Ospedale Papa Giovanni XXIII, Bergamo, Italy|P...             NaN   \n",
       "3  Hong Kong Sanatorium & Hospital, Hong Kong, Ho...             NaN   \n",
       "4                       CHR Orléans, Orléans, France             NaN   \n",
       "\n",
       "                                           URL  \n",
       "0  https://ClinicalTrials.gov/show/NCT04785898  \n",
       "1  https://ClinicalTrials.gov/show/NCT04595136  \n",
       "2  https://ClinicalTrials.gov/show/NCT04395482  \n",
       "3  https://ClinicalTrials.gov/show/NCT04416061  \n",
       "4  https://ClinicalTrials.gov/show/NCT04395924  \n",
       "\n",
       "[5 rows x 27 columns]"
      ]
     },
     "execution_count": 69,
     "metadata": {},
     "output_type": "execute_result"
    }
   ],
   "source": [
    "df = pd.read_csv(\"C:/Users/HP/Downloads/COVID clinical trials.csv\")\n",
    "df.head()"
   ]
  },
  {
   "cell_type": "code",
   "execution_count": 70,
   "id": "cb376ae2",
   "metadata": {},
   "outputs": [
    {
     "data": {
      "text/plain": [
       "(5783, 27)"
      ]
     },
     "execution_count": 70,
     "metadata": {},
     "output_type": "execute_result"
    }
   ],
   "source": [
    "df.shape"
   ]
  },
  {
   "cell_type": "code",
   "execution_count": 71,
   "id": "95c6967b",
   "metadata": {},
   "outputs": [
    {
     "name": "stdout",
     "output_type": "stream",
     "text": [
      "<class 'pandas.core.frame.DataFrame'>\n",
      "RangeIndex: 5783 entries, 0 to 5782\n",
      "Data columns (total 27 columns):\n",
      " #   Column                   Non-Null Count  Dtype  \n",
      "---  ------                   --------------  -----  \n",
      " 0   Rank                     5783 non-null   int64  \n",
      " 1   NCT Number               5783 non-null   object \n",
      " 2   Title                    5783 non-null   object \n",
      " 3   Acronym                  2480 non-null   object \n",
      " 4   Status                   5783 non-null   object \n",
      " 5   Study Results            5783 non-null   object \n",
      " 6   Conditions               5783 non-null   object \n",
      " 7   Interventions            4897 non-null   object \n",
      " 8   Outcome Measures         5748 non-null   object \n",
      " 9   Sponsor/Collaborators    5783 non-null   object \n",
      " 10  Gender                   5773 non-null   object \n",
      " 11  Age                      5783 non-null   object \n",
      " 12  Phases                   3322 non-null   object \n",
      " 13  Enrollment               5749 non-null   float64\n",
      " 14  Funded Bys               5783 non-null   object \n",
      " 15  Study Type               5783 non-null   object \n",
      " 16  Study Designs            5748 non-null   object \n",
      " 17  Other IDs                5782 non-null   object \n",
      " 18  Start Date               5749 non-null   object \n",
      " 19  Primary Completion Date  5747 non-null   object \n",
      " 20  Completion Date          5747 non-null   object \n",
      " 21  First Posted             5783 non-null   object \n",
      " 22  Results First Posted     36 non-null     object \n",
      " 23  Last Update Posted       5783 non-null   object \n",
      " 24  Locations                5198 non-null   object \n",
      " 25  Study Documents          182 non-null    object \n",
      " 26  URL                      5783 non-null   object \n",
      "dtypes: float64(1), int64(1), object(25)\n",
      "memory usage: 1.2+ MB\n"
     ]
    }
   ],
   "source": [
    "df.info()"
   ]
  },
  {
   "cell_type": "code",
   "execution_count": 72,
   "id": "65f3ef4e",
   "metadata": {},
   "outputs": [
    {
     "data": {
      "text/html": [
       "<div>\n",
       "<style scoped>\n",
       "    .dataframe tbody tr th:only-of-type {\n",
       "        vertical-align: middle;\n",
       "    }\n",
       "\n",
       "    .dataframe tbody tr th {\n",
       "        vertical-align: top;\n",
       "    }\n",
       "\n",
       "    .dataframe thead th {\n",
       "        text-align: right;\n",
       "    }\n",
       "</style>\n",
       "<table border=\"1\" class=\"dataframe\">\n",
       "  <thead>\n",
       "    <tr style=\"text-align: right;\">\n",
       "      <th></th>\n",
       "      <th>Rank</th>\n",
       "      <th>Enrollment</th>\n",
       "    </tr>\n",
       "  </thead>\n",
       "  <tbody>\n",
       "    <tr>\n",
       "      <th>count</th>\n",
       "      <td>5783.000000</td>\n",
       "      <td>5.749000e+03</td>\n",
       "    </tr>\n",
       "    <tr>\n",
       "      <th>mean</th>\n",
       "      <td>2892.000000</td>\n",
       "      <td>1.831949e+04</td>\n",
       "    </tr>\n",
       "    <tr>\n",
       "      <th>std</th>\n",
       "      <td>1669.552635</td>\n",
       "      <td>4.045437e+05</td>\n",
       "    </tr>\n",
       "    <tr>\n",
       "      <th>min</th>\n",
       "      <td>1.000000</td>\n",
       "      <td>0.000000e+00</td>\n",
       "    </tr>\n",
       "    <tr>\n",
       "      <th>25%</th>\n",
       "      <td>1446.500000</td>\n",
       "      <td>6.000000e+01</td>\n",
       "    </tr>\n",
       "    <tr>\n",
       "      <th>50%</th>\n",
       "      <td>2892.000000</td>\n",
       "      <td>1.700000e+02</td>\n",
       "    </tr>\n",
       "    <tr>\n",
       "      <th>75%</th>\n",
       "      <td>4337.500000</td>\n",
       "      <td>5.600000e+02</td>\n",
       "    </tr>\n",
       "    <tr>\n",
       "      <th>max</th>\n",
       "      <td>5783.000000</td>\n",
       "      <td>2.000000e+07</td>\n",
       "    </tr>\n",
       "  </tbody>\n",
       "</table>\n",
       "</div>"
      ],
      "text/plain": [
       "              Rank    Enrollment\n",
       "count  5783.000000  5.749000e+03\n",
       "mean   2892.000000  1.831949e+04\n",
       "std    1669.552635  4.045437e+05\n",
       "min       1.000000  0.000000e+00\n",
       "25%    1446.500000  6.000000e+01\n",
       "50%    2892.000000  1.700000e+02\n",
       "75%    4337.500000  5.600000e+02\n",
       "max    5783.000000  2.000000e+07"
      ]
     },
     "execution_count": 72,
     "metadata": {},
     "output_type": "execute_result"
    }
   ],
   "source": [
    "df.describe()"
   ]
  },
  {
   "cell_type": "code",
   "execution_count": 73,
   "id": "2307b4e7",
   "metadata": {},
   "outputs": [
    {
     "data": {
      "text/plain": [
       "Index(['NCT Number', 'Title', 'Acronym', 'Status', 'Study Results',\n",
       "       'Conditions', 'Interventions', 'Outcome Measures',\n",
       "       'Sponsor/Collaborators', 'Gender', 'Age', 'Phases', 'Funded Bys',\n",
       "       'Study Type', 'Study Designs', 'Other IDs', 'Start Date',\n",
       "       'Primary Completion Date', 'Completion Date', 'First Posted',\n",
       "       'Results First Posted', 'Last Update Posted', 'Locations',\n",
       "       'Study Documents', 'URL'],\n",
       "      dtype='object')"
      ]
     },
     "execution_count": 73,
     "metadata": {},
     "output_type": "execute_result"
    }
   ],
   "source": [
    "df.select_dtypes(include='object').columns"
   ]
  },
  {
   "cell_type": "code",
   "execution_count": 74,
   "id": "cf80434e",
   "metadata": {},
   "outputs": [
    {
     "data": {
      "text/plain": [
       "Rank                          0\n",
       "NCT Number                    0\n",
       "Title                         0\n",
       "Acronym                    3303\n",
       "Status                        0\n",
       "Study Results                 0\n",
       "Conditions                    0\n",
       "Interventions               886\n",
       "Outcome Measures             35\n",
       "Sponsor/Collaborators         0\n",
       "Gender                       10\n",
       "Age                           0\n",
       "Phases                     2461\n",
       "Enrollment                   34\n",
       "Funded Bys                    0\n",
       "Study Type                    0\n",
       "Study Designs                35\n",
       "Other IDs                     1\n",
       "Start Date                   34\n",
       "Primary Completion Date      36\n",
       "Completion Date              36\n",
       "First Posted                  0\n",
       "Results First Posted       5747\n",
       "Last Update Posted            0\n",
       "Locations                   585\n",
       "Study Documents            5601\n",
       "URL                           0\n",
       "dtype: int64"
      ]
     },
     "execution_count": 74,
     "metadata": {},
     "output_type": "execute_result"
    }
   ],
   "source": [
    "df.isnull().sum()"
   ]
  },
  {
   "cell_type": "code",
   "execution_count": 75,
   "id": "620e071d",
   "metadata": {
    "scrolled": true
   },
   "outputs": [
    {
     "data": {
      "text/plain": [
       "0        Not Applicable\n",
       "1       Phase 1|Phase 2\n",
       "2                   NaN\n",
       "3                   NaN\n",
       "4                   NaN\n",
       "             ...       \n",
       "5778     Not Applicable\n",
       "5779                NaN\n",
       "5780     Not Applicable\n",
       "5781                NaN\n",
       "5782     Not Applicable\n",
       "Name: Phases, Length: 5783, dtype: object"
      ]
     },
     "execution_count": 75,
     "metadata": {},
     "output_type": "execute_result"
    }
   ],
   "source": [
    "df['Phases']"
   ]
  },
  {
   "cell_type": "code",
   "execution_count": 76,
   "id": "b2c9ddd5",
   "metadata": {
    "scrolled": true
   },
   "outputs": [
    {
     "data": {
      "text/plain": [
       "Not Applicable     1354\n",
       "Phase 2             685\n",
       "Phase 3             450\n",
       "Phase 1             234\n",
       "Phase 2|Phase 3     200\n",
       "Phase 1|Phase 2     192\n",
       "Phase 4             161\n",
       "Early Phase 1        46\n",
       "Name: Phases, dtype: int64"
      ]
     },
     "execution_count": 76,
     "metadata": {},
     "output_type": "execute_result"
    }
   ],
   "source": [
    "df['Phases'].value_counts()"
   ]
  },
  {
   "cell_type": "code",
   "execution_count": 77,
   "id": "a4d7cadb",
   "metadata": {},
   "outputs": [],
   "source": [
    "df['Phases'].fillna('Not Applicable',inplace=True)"
   ]
  },
  {
   "cell_type": "code",
   "execution_count": 78,
   "id": "f16e9764",
   "metadata": {},
   "outputs": [
    {
     "data": {
      "text/plain": [
       "0       1000.0\n",
       "1         60.0\n",
       "2        500.0\n",
       "3       2500.0\n",
       "4         50.0\n",
       "         ...  \n",
       "5778     566.0\n",
       "5779     200.0\n",
       "5780      88.0\n",
       "5781     396.0\n",
       "5782     716.0\n",
       "Name: Enrollment, Length: 5783, dtype: float64"
      ]
     },
     "execution_count": 78,
     "metadata": {},
     "output_type": "execute_result"
    }
   ],
   "source": [
    "df['Enrollment']"
   ]
  },
  {
   "cell_type": "code",
   "execution_count": 79,
   "id": "12848d9b",
   "metadata": {},
   "outputs": [],
   "source": [
    "df['Results First Posted'].fillna('Unknown', inplace=True)"
   ]
  },
  {
   "cell_type": "code",
   "execution_count": 80,
   "id": "8ffd925b",
   "metadata": {},
   "outputs": [
    {
     "data": {
      "text/html": [
       "<div>\n",
       "<style scoped>\n",
       "    .dataframe tbody tr th:only-of-type {\n",
       "        vertical-align: middle;\n",
       "    }\n",
       "\n",
       "    .dataframe tbody tr th {\n",
       "        vertical-align: top;\n",
       "    }\n",
       "\n",
       "    .dataframe thead th {\n",
       "        text-align: right;\n",
       "    }\n",
       "</style>\n",
       "<table border=\"1\" class=\"dataframe\">\n",
       "  <thead>\n",
       "    <tr style=\"text-align: right;\">\n",
       "      <th></th>\n",
       "      <th>Rank</th>\n",
       "      <th>NCT Number</th>\n",
       "      <th>Title</th>\n",
       "      <th>Acronym</th>\n",
       "      <th>Status</th>\n",
       "      <th>Study Results</th>\n",
       "      <th>Conditions</th>\n",
       "      <th>Interventions</th>\n",
       "      <th>Outcome Measures</th>\n",
       "      <th>Sponsor/Collaborators</th>\n",
       "      <th>...</th>\n",
       "      <th>Other IDs</th>\n",
       "      <th>Start Date</th>\n",
       "      <th>Primary Completion Date</th>\n",
       "      <th>Completion Date</th>\n",
       "      <th>First Posted</th>\n",
       "      <th>Results First Posted</th>\n",
       "      <th>Last Update Posted</th>\n",
       "      <th>Locations</th>\n",
       "      <th>Study Documents</th>\n",
       "      <th>URL</th>\n",
       "    </tr>\n",
       "  </thead>\n",
       "  <tbody>\n",
       "    <tr>\n",
       "      <th>0</th>\n",
       "      <td>1</td>\n",
       "      <td>NCT04785898</td>\n",
       "      <td>Diagnostic Performance of the ID Now™ COVID-19...</td>\n",
       "      <td>COVID-IDNow</td>\n",
       "      <td>Active, not recruiting</td>\n",
       "      <td>No Results Available</td>\n",
       "      <td>Covid19</td>\n",
       "      <td>Diagnostic Test: ID Now™ COVID-19 Screening Test</td>\n",
       "      <td>Evaluate the diagnostic performance of the ID ...</td>\n",
       "      <td>Groupe Hospitalier Paris Saint Joseph</td>\n",
       "      <td>...</td>\n",
       "      <td>COVID-IDNow</td>\n",
       "      <td>November 9, 2020</td>\n",
       "      <td>December 22, 2020</td>\n",
       "      <td>April 30, 2021</td>\n",
       "      <td>March 8, 2021</td>\n",
       "      <td>Unknown</td>\n",
       "      <td>March 8, 2021</td>\n",
       "      <td>Groupe Hospitalier Paris Saint-Joseph, Paris, ...</td>\n",
       "      <td>NaN</td>\n",
       "      <td>https://ClinicalTrials.gov/show/NCT04785898</td>\n",
       "    </tr>\n",
       "    <tr>\n",
       "      <th>1</th>\n",
       "      <td>2</td>\n",
       "      <td>NCT04595136</td>\n",
       "      <td>Study to Evaluate the Efficacy of COVID19-0001...</td>\n",
       "      <td>COVID-19</td>\n",
       "      <td>Not yet recruiting</td>\n",
       "      <td>No Results Available</td>\n",
       "      <td>SARS-CoV-2 Infection</td>\n",
       "      <td>Drug: Drug COVID19-0001-USR|Drug: normal saline</td>\n",
       "      <td>Change on viral load results from baseline aft...</td>\n",
       "      <td>United Medical Specialties</td>\n",
       "      <td>...</td>\n",
       "      <td>COVID19-0001-USR</td>\n",
       "      <td>November 2, 2020</td>\n",
       "      <td>December 15, 2020</td>\n",
       "      <td>January 29, 2021</td>\n",
       "      <td>October 20, 2020</td>\n",
       "      <td>Unknown</td>\n",
       "      <td>October 20, 2020</td>\n",
       "      <td>Cimedical, Barranquilla, Atlantico, Colombia</td>\n",
       "      <td>NaN</td>\n",
       "      <td>https://ClinicalTrials.gov/show/NCT04595136</td>\n",
       "    </tr>\n",
       "    <tr>\n",
       "      <th>2</th>\n",
       "      <td>3</td>\n",
       "      <td>NCT04395482</td>\n",
       "      <td>Lung CT Scan Analysis of SARS-CoV2 Induced Lun...</td>\n",
       "      <td>TAC-COVID19</td>\n",
       "      <td>Recruiting</td>\n",
       "      <td>No Results Available</td>\n",
       "      <td>covid19</td>\n",
       "      <td>Other: Lung CT scan analysis in COVID-19 patients</td>\n",
       "      <td>A qualitative analysis of parenchymal lung dam...</td>\n",
       "      <td>University of Milano Bicocca</td>\n",
       "      <td>...</td>\n",
       "      <td>TAC-COVID19</td>\n",
       "      <td>May 7, 2020</td>\n",
       "      <td>June 15, 2021</td>\n",
       "      <td>June 15, 2021</td>\n",
       "      <td>May 20, 2020</td>\n",
       "      <td>Unknown</td>\n",
       "      <td>November 9, 2020</td>\n",
       "      <td>Ospedale Papa Giovanni XXIII, Bergamo, Italy|P...</td>\n",
       "      <td>NaN</td>\n",
       "      <td>https://ClinicalTrials.gov/show/NCT04395482</td>\n",
       "    </tr>\n",
       "    <tr>\n",
       "      <th>3</th>\n",
       "      <td>4</td>\n",
       "      <td>NCT04416061</td>\n",
       "      <td>The Role of a Private Hospital in Hong Kong Am...</td>\n",
       "      <td>COVID-19</td>\n",
       "      <td>Active, not recruiting</td>\n",
       "      <td>No Results Available</td>\n",
       "      <td>COVID</td>\n",
       "      <td>Diagnostic Test: COVID 19 Diagnostic Test</td>\n",
       "      <td>Proportion of asymptomatic subjects|Proportion...</td>\n",
       "      <td>Hong Kong Sanatorium &amp; Hospital</td>\n",
       "      <td>...</td>\n",
       "      <td>RC-2020-08</td>\n",
       "      <td>May 25, 2020</td>\n",
       "      <td>July 31, 2020</td>\n",
       "      <td>August 31, 2020</td>\n",
       "      <td>June 4, 2020</td>\n",
       "      <td>Unknown</td>\n",
       "      <td>June 4, 2020</td>\n",
       "      <td>Hong Kong Sanatorium &amp; Hospital, Hong Kong, Ho...</td>\n",
       "      <td>NaN</td>\n",
       "      <td>https://ClinicalTrials.gov/show/NCT04416061</td>\n",
       "    </tr>\n",
       "    <tr>\n",
       "      <th>4</th>\n",
       "      <td>5</td>\n",
       "      <td>NCT04395924</td>\n",
       "      <td>Maternal-foetal Transmission of SARS-Cov-2</td>\n",
       "      <td>TMF-COVID-19</td>\n",
       "      <td>Recruiting</td>\n",
       "      <td>No Results Available</td>\n",
       "      <td>Maternal Fetal Infection Transmission|COVID-19...</td>\n",
       "      <td>Diagnostic Test: Diagnosis of SARS-Cov2 by RT-...</td>\n",
       "      <td>COVID-19 by positive PCR in cord blood and / o...</td>\n",
       "      <td>Centre Hospitalier Régional d'Orléans|Centre d...</td>\n",
       "      <td>...</td>\n",
       "      <td>CHRO-2020-10</td>\n",
       "      <td>May 5, 2020</td>\n",
       "      <td>May 2021</td>\n",
       "      <td>May 2021</td>\n",
       "      <td>May 20, 2020</td>\n",
       "      <td>Unknown</td>\n",
       "      <td>June 4, 2020</td>\n",
       "      <td>CHR Orléans, Orléans, France</td>\n",
       "      <td>NaN</td>\n",
       "      <td>https://ClinicalTrials.gov/show/NCT04395924</td>\n",
       "    </tr>\n",
       "  </tbody>\n",
       "</table>\n",
       "<p>5 rows × 27 columns</p>\n",
       "</div>"
      ],
      "text/plain": [
       "   Rank   NCT Number                                              Title  \\\n",
       "0     1  NCT04785898  Diagnostic Performance of the ID Now™ COVID-19...   \n",
       "1     2  NCT04595136  Study to Evaluate the Efficacy of COVID19-0001...   \n",
       "2     3  NCT04395482  Lung CT Scan Analysis of SARS-CoV2 Induced Lun...   \n",
       "3     4  NCT04416061  The Role of a Private Hospital in Hong Kong Am...   \n",
       "4     5  NCT04395924         Maternal-foetal Transmission of SARS-Cov-2   \n",
       "\n",
       "        Acronym                  Status         Study Results  \\\n",
       "0   COVID-IDNow  Active, not recruiting  No Results Available   \n",
       "1      COVID-19      Not yet recruiting  No Results Available   \n",
       "2   TAC-COVID19              Recruiting  No Results Available   \n",
       "3      COVID-19  Active, not recruiting  No Results Available   \n",
       "4  TMF-COVID-19              Recruiting  No Results Available   \n",
       "\n",
       "                                          Conditions  \\\n",
       "0                                            Covid19   \n",
       "1                               SARS-CoV-2 Infection   \n",
       "2                                            covid19   \n",
       "3                                              COVID   \n",
       "4  Maternal Fetal Infection Transmission|COVID-19...   \n",
       "\n",
       "                                       Interventions  \\\n",
       "0   Diagnostic Test: ID Now™ COVID-19 Screening Test   \n",
       "1    Drug: Drug COVID19-0001-USR|Drug: normal saline   \n",
       "2  Other: Lung CT scan analysis in COVID-19 patients   \n",
       "3          Diagnostic Test: COVID 19 Diagnostic Test   \n",
       "4  Diagnostic Test: Diagnosis of SARS-Cov2 by RT-...   \n",
       "\n",
       "                                    Outcome Measures  \\\n",
       "0  Evaluate the diagnostic performance of the ID ...   \n",
       "1  Change on viral load results from baseline aft...   \n",
       "2  A qualitative analysis of parenchymal lung dam...   \n",
       "3  Proportion of asymptomatic subjects|Proportion...   \n",
       "4  COVID-19 by positive PCR in cord blood and / o...   \n",
       "\n",
       "                               Sponsor/Collaborators  ...         Other IDs  \\\n",
       "0              Groupe Hospitalier Paris Saint Joseph  ...       COVID-IDNow   \n",
       "1                         United Medical Specialties  ...  COVID19-0001-USR   \n",
       "2                       University of Milano Bicocca  ...       TAC-COVID19   \n",
       "3                    Hong Kong Sanatorium & Hospital  ...        RC-2020-08   \n",
       "4  Centre Hospitalier Régional d'Orléans|Centre d...  ...      CHRO-2020-10   \n",
       "\n",
       "         Start Date Primary Completion Date   Completion Date  \\\n",
       "0  November 9, 2020       December 22, 2020    April 30, 2021   \n",
       "1  November 2, 2020       December 15, 2020  January 29, 2021   \n",
       "2       May 7, 2020           June 15, 2021     June 15, 2021   \n",
       "3      May 25, 2020           July 31, 2020   August 31, 2020   \n",
       "4       May 5, 2020                May 2021          May 2021   \n",
       "\n",
       "       First Posted Results First Posted Last Update Posted  \\\n",
       "0     March 8, 2021              Unknown      March 8, 2021   \n",
       "1  October 20, 2020              Unknown   October 20, 2020   \n",
       "2      May 20, 2020              Unknown   November 9, 2020   \n",
       "3      June 4, 2020              Unknown       June 4, 2020   \n",
       "4      May 20, 2020              Unknown       June 4, 2020   \n",
       "\n",
       "                                           Locations Study Documents  \\\n",
       "0  Groupe Hospitalier Paris Saint-Joseph, Paris, ...             NaN   \n",
       "1       Cimedical, Barranquilla, Atlantico, Colombia             NaN   \n",
       "2  Ospedale Papa Giovanni XXIII, Bergamo, Italy|P...             NaN   \n",
       "3  Hong Kong Sanatorium & Hospital, Hong Kong, Ho...             NaN   \n",
       "4                       CHR Orléans, Orléans, France             NaN   \n",
       "\n",
       "                                           URL  \n",
       "0  https://ClinicalTrials.gov/show/NCT04785898  \n",
       "1  https://ClinicalTrials.gov/show/NCT04595136  \n",
       "2  https://ClinicalTrials.gov/show/NCT04395482  \n",
       "3  https://ClinicalTrials.gov/show/NCT04416061  \n",
       "4  https://ClinicalTrials.gov/show/NCT04395924  \n",
       "\n",
       "[5 rows x 27 columns]"
      ]
     },
     "execution_count": 80,
     "metadata": {},
     "output_type": "execute_result"
    }
   ],
   "source": [
    "df.head()"
   ]
  },
  {
   "cell_type": "code",
   "execution_count": 81,
   "id": "8007b0f0",
   "metadata": {},
   "outputs": [],
   "source": [
    "df.drop(columns={'Acronym','Study Documents'},inplace=True)"
   ]
  },
  {
   "cell_type": "code",
   "execution_count": 82,
   "id": "1cd277b1",
   "metadata": {},
   "outputs": [
    {
     "data": {
      "text/plain": [
       "Rank                         0\n",
       "NCT Number                   0\n",
       "Title                        0\n",
       "Status                       0\n",
       "Study Results                0\n",
       "Conditions                   0\n",
       "Interventions              886\n",
       "Outcome Measures            35\n",
       "Sponsor/Collaborators        0\n",
       "Gender                      10\n",
       "Age                          0\n",
       "Phases                       0\n",
       "Enrollment                  34\n",
       "Funded Bys                   0\n",
       "Study Type                   0\n",
       "Study Designs               35\n",
       "Other IDs                    1\n",
       "Start Date                  34\n",
       "Primary Completion Date     36\n",
       "Completion Date             36\n",
       "First Posted                 0\n",
       "Results First Posted         0\n",
       "Last Update Posted           0\n",
       "Locations                  585\n",
       "URL                          0\n",
       "dtype: int64"
      ]
     },
     "execution_count": 82,
     "metadata": {},
     "output_type": "execute_result"
    }
   ],
   "source": [
    "df.isnull().sum()"
   ]
  },
  {
   "cell_type": "code",
   "execution_count": 83,
   "id": "c9bf2c45",
   "metadata": {},
   "outputs": [],
   "source": [
    "df['Start Date'] = pd.to_datetime(df['Start Date'])\n",
    "df['Primary Completion Date'] = pd.to_datetime(df['Primary Completion Date'])\n",
    "df['Completion Date'] = pd.to_datetime(df['Completion Date'])"
   ]
  },
  {
   "cell_type": "code",
   "execution_count": 84,
   "id": "2cdd12f5",
   "metadata": {},
   "outputs": [],
   "source": [
    "df['Locations'].fillna(df['Locations'].mode()[0],inplace=True)\n",
    "df['Study Designs'].fillna(df['Study Designs'].mode()[0],inplace=True)\n",
    "df['Interventions'].fillna(df['Interventions'].mode()[0],inplace=True)\n",
    "df['Outcome Measures'].fillna(df['Outcome Measures'].mode()[0],inplace=True)\n",
    "df['Gender'].fillna(df['Gender'].mode()[0],inplace=True)\n",
    "df['Other IDs'].fillna(df['Other IDs'].mode()[0],inplace=True)"
   ]
  },
  {
   "cell_type": "code",
   "execution_count": 85,
   "id": "32e51237",
   "metadata": {},
   "outputs": [],
   "source": [
    "df['Start Date'].fillna(method='bfill',inplace=True)\n",
    "df['Primary Completion Date'].fillna(method='ffill',inplace=True)\n",
    "df['Completion Date'].fillna(method='ffill',inplace=True)\n",
    "df['Enrollment'].fillna(method='ffill',inplace=True)"
   ]
  },
  {
   "cell_type": "code",
   "execution_count": 86,
   "id": "6a1c5535",
   "metadata": {},
   "outputs": [
    {
     "data": {
      "text/plain": [
       "Rank                       0\n",
       "NCT Number                 0\n",
       "Title                      0\n",
       "Status                     0\n",
       "Study Results              0\n",
       "Conditions                 0\n",
       "Interventions              0\n",
       "Outcome Measures           0\n",
       "Sponsor/Collaborators      0\n",
       "Gender                     0\n",
       "Age                        0\n",
       "Phases                     0\n",
       "Enrollment                 0\n",
       "Funded Bys                 0\n",
       "Study Type                 0\n",
       "Study Designs              0\n",
       "Other IDs                  0\n",
       "Start Date                 0\n",
       "Primary Completion Date    0\n",
       "Completion Date            0\n",
       "First Posted               0\n",
       "Results First Posted       0\n",
       "Last Update Posted         0\n",
       "Locations                  0\n",
       "URL                        0\n",
       "dtype: int64"
      ]
     },
     "execution_count": 86,
     "metadata": {},
     "output_type": "execute_result"
    }
   ],
   "source": [
    "df.isnull().sum()"
   ]
  },
  {
   "cell_type": "code",
   "execution_count": 87,
   "id": "1cab9673",
   "metadata": {},
   "outputs": [
    {
     "data": {
      "image/png": "[encoded data removed]",
      "text/plain": [
       "<Figure size 720x432 with 1 Axes>"
      ]
     },
     "metadata": {
      "needs_background": "light"
     },
     "output_type": "display_data"
    }
   ],
   "source": [
    "plt.figure(figsize=(10,6))\n",
    "plt.bar(df['Phases'].value_counts().index, df['Phases'].value_counts().values)\n",
    "plt.title('Distribution of Phases')\n",
    "plt.xticks(rotation=60, ha='right')\n",
    "plt.show()"
   ]
  },
  {
   "cell_type": "code",
   "execution_count": 88,
   "id": "4eff5831",
   "metadata": {},
   "outputs": [
    {
     "data": {
      "image/png": "[encoded data removed]",
      "text/plain": [
       "<Figure size 720x432 with 1 Axes>"
      ]
     },
     "metadata": {
      "needs_background": "light"
     },
     "output_type": "display_data"
    }
   ],
   "source": [
    "plt.figure(figsize=(10,6))\n",
    "plt.bar(df['Status'].value_counts().index, df['Status'].value_counts().values)\n",
    "plt.title('Status of Clinical Trials')\n",
    "plt.xticks(rotation=60, ha='right')\n",
    "plt.show()"
   ]
  },
  {
   "cell_type": "code",
   "execution_count": 89,
   "id": "d7a1ab5d",
   "metadata": {},
   "outputs": [
    {
     "data": {
      "text/plain": [
       "0          18 Years and older   (Adult, Older Adult)\n",
       "1          18 Years and older   (Adult, Older Adult)\n",
       "2          18 Years and older   (Adult, Older Adult)\n",
       "3                          Child, Adult, Older Adult\n",
       "4                     18 Years to 48 Years   (Adult)\n",
       "                            ...                     \n",
       "5778    21 Years to 100 Years   (Adult, Older Adult)\n",
       "5779           3 Months to 18 Years   (Child, Adult)\n",
       "5780                  18 Years to 64 Years   (Adult)\n",
       "5781            8 Years to 20 Years   (Child, Adult)\n",
       "5782       18 Years and older   (Adult, Older Adult)\n",
       "Name: Age, Length: 5783, dtype: object"
      ]
     },
     "execution_count": 89,
     "metadata": {},
     "output_type": "execute_result"
    }
   ],
   "source": [
    "df['Age']"
   ]
  },
  {
   "cell_type": "code",
   "execution_count": 90,
   "id": "0f46539c",
   "metadata": {},
   "outputs": [
    {
     "name": "stdout",
     "output_type": "stream",
     "text": [
      "Study Type\n",
      "Expanded Access                                                           1\n",
      "Expanded Access:Individual Patients                                       3\n",
      "Expanded Access:Individual Patients|Intermediate-size Population          1\n",
      "Expanded Access:Individual Patients|Treatment IND/Protocol                1\n",
      "Expanded Access:Intermediate-size Population                             15\n",
      "Expanded Access:Intermediate-size Population|Treatment IND/Protocol       5\n",
      "Expanded Access:Treatment IND/Protocol                                    8\n",
      "Interventional                                                         3322\n",
      "Observational                                                          2427\n",
      "Name: NCT Number, dtype: int64\n"
     ]
    }
   ],
   "source": [
    "study_count_by_type = df.groupby('Study Type')['NCT Number'].count()\n",
    "print(study_count_by_type)"
   ]
  },
  {
   "cell_type": "code",
   "execution_count": 91,
   "id": "cd15d58a",
   "metadata": {},
   "outputs": [
    {
     "name": "stdout",
     "output_type": "stream",
     "text": [
      "Phases\n",
      "Early Phase 1         76.000000\n",
      "Not Applicable     26974.754391\n",
      "Phase 1              100.679487\n",
      "Phase 1|Phase 2      243.744792\n",
      "Phase 2              511.013139\n",
      "Phase 2|Phase 3     1516.295000\n",
      "Phase 3             3258.922222\n",
      "Phase 4             1518.341615\n",
      "Name: Enrollment, dtype: float64\n"
     ]
    }
   ],
   "source": [
    "avg_enrollment_by_phase = df.groupby('Phases')['Enrollment'].mean()\n",
    "print(avg_enrollment_by_phase)"
   ]
  },
  {
   "cell_type": "code",
   "execution_count": 92,
   "id": "ae9e02cc",
   "metadata": {
    "scrolled": true
   },
   "outputs": [
    {
     "name": "stdout",
     "output_type": "stream",
     "text": [
      "Gender\n",
      "All       5577\n",
      "Female     162\n",
      "Male        44\n",
      "Name: Age, dtype: int64\n"
     ]
    }
   ],
   "source": [
    "avg_age_by_gender = df.groupby('Gender')['Age'].count()\n",
    "print(avg_age_by_gender)"
   ]
  },
  {
   "cell_type": "code",
   "execution_count": 93,
   "id": "a6dd2f7c",
   "metadata": {},
   "outputs": [
    {
     "name": "stderr",
     "output_type": "stream",
     "text": [
      "C:\\Users\\HP\\anaconda3\\lib\\site-packages\\matplotlib\\text.py:1223: FutureWarning: elementwise comparison failed; returning scalar instead, but in the future will perform elementwise comparison\n",
      "  if s != self._text:\n"
     ]
    },
    {
     "data": {
      "image/png": "[encoded data removed]",
      "text/plain": [
       "<Figure size 720x432 with 1 Axes>"
      ]
     },
     "metadata": {
      "needs_background": "light"
     },
     "output_type": "display_data"
    }
   ],
   "source": [
    "plt.figure(figsize=(10,6))\n",
    "plt.hist(df['Gender'].value_counts().index)\n",
    "plt.xlabel(df['Gender'].value_counts().values,size=22)\n",
    "plt.show()"
   ]
  },
  {
   "cell_type": "code",
   "execution_count": 94,
   "id": "27c29484",
   "metadata": {},
   "outputs": [
    {
     "name": "stdout",
     "output_type": "stream",
     "text": [
      "Funded Bys\n",
      "Industry                        651\n",
      "Industry|NIH                      2\n",
      "Industry|NIH|Other                2\n",
      "Industry|Other                  190\n",
      "Industry|Other|NIH                2\n",
      "Industry|Other|U.S. Fed           1\n",
      "Industry|U.S. Fed                10\n",
      "Industry|U.S. Fed|NIH             1\n",
      "Industry|U.S. Fed|Other           3\n",
      "NIH                              51\n",
      "NIH|Industry                      6\n",
      "NIH|Industry|Other                1\n",
      "NIH|Other                         5\n",
      "NIH|Other|Industry                2\n",
      "NIH|Other|U.S. Fed|Industry       2\n",
      "Other                          4488\n",
      "Other|Industry                  216\n",
      "Other|Industry|NIH                2\n",
      "Other|NIH                        97\n",
      "Other|NIH|Industry                2\n",
      "Other|NIH|U.S. Fed                2\n",
      "Other|U.S. Fed                   25\n",
      "Other|U.S. Fed|Industry           1\n",
      "Other|U.S. Fed|NIH                1\n",
      "U.S. Fed                         15\n",
      "U.S. Fed|Other                    5\n",
      "Name: NCT Number, dtype: int64\n"
     ]
    }
   ],
   "source": [
    "study_count_by_sponsor = df.groupby('Funded Bys')['NCT Number'].count()\n",
    "print(study_count_by_sponsor)"
   ]
  },
  {
   "cell_type": "code",
   "execution_count": 95,
   "id": "6c38b9a6",
   "metadata": {},
   "outputs": [
    {
     "name": "stdout",
     "output_type": "stream",
     "text": [
      "The average age of participants is: 5783\n"
     ]
    }
   ],
   "source": [
    "average_age = df['Age'].count()\n",
    "print(f\"The average age of participants is: {average_age}\")"
   ]
  },
  {
   "cell_type": "code",
   "execution_count": 96,
   "id": "bd5c1ed4",
   "metadata": {},
   "outputs": [
    {
     "data": {
      "text/plain": [
       "<AxesSubplot:ylabel='Density'>"
      ]
     },
     "execution_count": 96,
     "metadata": {},
     "output_type": "execute_result"
    },
    {
     "data": {
      "image/png": "[encoded data removed]",
      "text/plain": [
       "<Figure size 720x432 with 1 Axes>"
      ]
     },
     "metadata": {
      "needs_background": "light"
     },
     "output_type": "display_data"
    }
   ],
   "source": [
    "plt.figure(figsize=(10,6))\n",
    "df.Enrollment.plot(kind = 'kde')"
   ]
  },
  {
   "cell_type": "code",
   "execution_count": null,
   "id": "04ae978f",
   "metadata": {},
   "outputs": [],
   "source": []
  }
 ],
 "metadata": {
  "kernelspec": {
   "display_name": "Python 3 (ipykernel)",
   "language": "python",
   "name": "python3"
  },
  "language_info": {
   "codemirror_mode": {
    "name": "ipython",
    "version": 3
   },
   "file_extension": ".py",
   "mimetype": "text/x-python",
   "name": "python",
   "nbconvert_exporter": "python",
   "pygments_lexer": "ipython3",
   "version": "3.9.12"
  }
 },
 "nbformat": 4,
 "nbformat_minor": 5
}
